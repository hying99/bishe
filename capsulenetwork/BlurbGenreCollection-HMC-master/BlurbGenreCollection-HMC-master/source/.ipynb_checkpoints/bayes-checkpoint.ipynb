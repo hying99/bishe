{
 "cells": [
  {
   "cell_type": "code",
   "execution_count": 38,
   "metadata": {},
   "outputs": [
    {
     "name": "stdout",
     "output_type": "stream",
     "text": [
      "None\n"
     ]
    },
    {
     "ename": "TypeError",
     "evalue": "'module' object is not callable",
     "output_type": "error",
     "traceback": [
      "\u001b[0;31m---------------------------------------------------------------------------\u001b[0m",
      "\u001b[0;31mTypeError\u001b[0m                                 Traceback (most recent call last)",
      "\u001b[0;32m<ipython-input-38-f54e65aee658>\u001b[0m in \u001b[0;36m<module>\u001b[0;34m()\u001b[0m\n\u001b[1;32m     45\u001b[0m \u001b[0mtest\u001b[0m \u001b[0;34m=\u001b[0m \u001b[0mclf\u001b[0m\u001b[0;34m.\u001b[0m\u001b[0mclassify_many\u001b[0m\u001b[0;34m(\u001b[0m\u001b[0mmake_test_data\u001b[0m\u001b[0;34m(\u001b[0m\u001b[0msGenreTest\u001b[0m\u001b[0;34m)\u001b[0m\u001b[0;34m)\u001b[0m\u001b[0;34m\u001b[0m\u001b[0m\n\u001b[1;32m     46\u001b[0m \u001b[0;32mprint\u001b[0m \u001b[0mcreate_gold\u001b[0m\u001b[0;34m(\u001b[0m\u001b[0msGenreTest\u001b[0m\u001b[0;34m)\u001b[0m\u001b[0;34m\u001b[0m\u001b[0m\n\u001b[0;32m---> 47\u001b[0;31m \u001b[0mnltk\u001b[0m\u001b[0;34m.\u001b[0m\u001b[0mconfusionmatrix\u001b[0m\u001b[0;34m(\u001b[0m\u001b[0mlist\u001b[0m\u001b[0;34m(\u001b[0m\u001b[0mmake_training_data\u001b[0m\u001b[0;34m(\u001b[0m\u001b[0msGenreTest\u001b[0m\u001b[0;34m)\u001b[0m\u001b[0;34m)\u001b[0m\u001b[0;34m,\u001b[0m \u001b[0mtest\u001b[0m\u001b[0;34m)\u001b[0m\u001b[0;34m\u001b[0m\u001b[0m\n\u001b[0m\u001b[1;32m     48\u001b[0m \u001b[0;31m#print sGenreTrain.\u001b[0m\u001b[0;34m\u001b[0m\u001b[0;34m\u001b[0m\u001b[0m\n\u001b[1;32m     49\u001b[0m \u001b[0;31m#print clf.most_informative_features()\u001b[0m\u001b[0;34m\u001b[0m\u001b[0;34m\u001b[0m\u001b[0m\n",
      "\u001b[0;31mTypeError\u001b[0m: 'module' object is not callable"
     ]
    }
   ],
   "source": [
    "import os, os.path\n",
    "import nltk\n",
    "import string\n",
    "from nltk.corpus import LazyCorpusLoader, CategorizedPlaintextCorpusReader\n",
    "from nltk.corpus import stopwords\n",
    "from nltk.classify.naivebayes import NaiveBayesClassifier\n",
    "from nltk import FreqDist\n",
    "\n",
    "#Creates Frequency distributions of each Document and returns a yield [so a one time iterable object] with the\n",
    "#Distribution and the respective category\n",
    "def make_training_data(rdr):\n",
    "    stop = stopwords.words('english')\n",
    "    for c in rdr.categories():\n",
    "        for f in rdr.fileids(c):\n",
    "            #aims to just use relevant Words, removing stopwords\n",
    "            yield FreqDist([w for w in rdr.words(fileids=[f]) if w not in stop]), c\n",
    "            #\n",
    "            #yield FreqDist(rdr.words(fileids=[f])) , c\n",
    "            \n",
    "#Creates Frequency distribution of test documents and returns that as yield\n",
    "def make_test_data(rdr):\n",
    "    stop = stopwords.words('english')\n",
    "    for f in rdr.fileids():\n",
    "        yield FreqDist([w for w in rdr.words(fileids=[f]) if w not in stop])\n",
    "        #clf.classify(FreqDist([w for w in rdr.words(fileids=[f]) if w not in stop]))\n",
    "        #print clf.classify_many(FreqDist(rdr.words(fileids=[f])))\n",
    "        #print clf.prob_classify(FreqDist([w for w in rdr.words(fileids=[f]) if w not in stop])).prob('fantasy')\n",
    "\n",
    "        \n",
    "def create_gold(rdr):\n",
    "    li = []\n",
    "    for c in rdr.categories():\n",
    "        for f in rdr.fileids(c):\n",
    "            li.append(c)\n",
    "    return li\n",
    "        \n",
    "#Reads in the input for Train and Test, The First regex r being rawString, reads any file that ends on .txt, while the other reads the categories.\n",
    "sGenreTrain = CategorizedPlaintextCorpusReader('/home/rami/nltk_data/corpora/sGenre', r'.*\\.txt', cat_pattern=r'(fantasy|romance|politics)/.*')\n",
    "sGenreTest = CategorizedPlaintextCorpusReader('/home/rami/nltk_data/corpora/sGenreTest', r'.*\\.txt', cat_pattern=r'(fantasy|romance|politics)/.*')\n",
    "#print (sGenreTrain.categories()[0])\n",
    "clf = NaiveBayesClassifier.train(list(make_training_data(sGenreTrain)))\n",
    "#clf.classify(FreqDist(sGenreTest.words()))\n",
    "#test_data(sGenreTest)\n",
    "#print(nltk.classify.accuracy(clf, list(make_training_data(sGenreTest))))\n",
    "sGenreTest.fileids()\n",
    "test = clf.classify_many(make_test_data(sGenreTest))\n",
    "print create_gold(sGenreTest)\n",
    "nltk.confusionmatrix(list(make_training_data(sGenreTest)), test)\n",
    "#print sGenreTrain.\n",
    "#print clf.most_informative_features()"
   ]
  },
  {
   "cell_type": "code",
   "execution_count": 21,
   "metadata": {
    "scrolled": true
   },
   "outputs": [
    {
     "name": "stdout",
     "output_type": "stream",
     "text": [
      "Training classifier...\n",
      "Testing classifier...\n",
      "Accuracy: 0.7700\n",
      "Avg. log likelihood: -36000000000000004120696731904033723150454616144744569773861050647516577071258484022220355243502683423325831722218345499068016521762435076405090386969680013068787810886948667609018149087802182156166897067905554103381713958929990880784310559056905262040501726920509170860239822282214939162804561641472.0000\n",
      "\n",
      "Unseen Names      P(Male)  P(Female)\n",
      "----------------------------------------\n",
      "  Seymour         *0.9954   0.0046\n",
      "  Ramsay          *0.7196   0.2804\n",
      "  Gordan          *0.9979   0.0021\n",
      "  Nan              0.3860  *0.6140\n",
      "  Guglielma        0.0065  *0.9935\n",
      "Most Informative Features\n",
      "                endswith = u'a'            False : True   =     29.0 : 1.0\n",
      "                endswith = u'u'             True : False  =     22.3 : 1.0\n",
      "                endswith = u'z'             True : False  =     12.2 : 1.0\n",
      "                endswith = u't'             True : False  =      9.0 : 1.0\n",
      "                endswith = u'b'             True : False  =      6.6 : 1.0\n",
      "                count(a) = 3               False : True   =      5.9 : 1.0\n",
      "                count(z) = 2               False : True   =      5.7 : 1.0\n",
      "                endswith = u'r'             True : False  =      4.9 : 1.0\n",
      "                count(b) = 2               False : True   =      4.7 : 1.0\n",
      "              startswith = u'o'             True : False  =      4.7 : 1.0\n"
     ]
    }
   ],
   "source": [
    "nltk.classify.positivenaivebayes.demo()"
   ]
  },
  {
   "cell_type": "code",
   "execution_count": 20,
   "metadata": {},
   "outputs": [
    {
     "name": "stdout",
     "output_type": "stream",
     "text": [
      "[nltk_data] Downloading package names to /home/rami/nltk_data...\n",
      "[nltk_data]   Unzipping corpora/names.zip.\n"
     ]
    },
    {
     "data": {
      "text/plain": [
       "True"
      ]
     },
     "execution_count": 20,
     "metadata": {},
     "output_type": "execute_result"
    }
   ],
   "source": [
    "import nltk\n",
    "nltk.download('names')"
   ]
  },
  {
   "cell_type": "code",
   "execution_count": 22,
   "metadata": {},
   "outputs": [],
   "source": []
  },
  {
   "cell_type": "code",
   "execution_count": null,
   "metadata": {},
   "outputs": [],
   "source": []
  }
 ],
 "metadata": {
  "kernelspec": {
   "display_name": "Python 2",
   "language": "python",
   "name": "python2"
  },
  "language_info": {
   "codemirror_mode": {
    "name": "ipython",
    "version": 2
   },
   "file_extension": ".py",
   "mimetype": "text/x-python",
   "name": "python",
   "nbconvert_exporter": "python",
   "pygments_lexer": "ipython2",
   "version": "2.7.12"
  },
  "varInspector": {
   "cols": {
    "lenName": 16,
    "lenType": 16,
    "lenVar": 40
   },
   "kernels_config": {
    "python": {
     "delete_cmd_postfix": "",
     "delete_cmd_prefix": "del ",
     "library": "var_list.py",
     "varRefreshCmd": "print(var_dic_list())"
    },
    "r": {
     "delete_cmd_postfix": ") ",
     "delete_cmd_prefix": "rm(",
     "library": "var_list.r",
     "varRefreshCmd": "cat(var_dic_list()) "
    }
   },
   "position": {
    "height": "548px",
    "left": "1886px",
    "right": "20px",
    "top": "141px",
    "width": "633px"
   },
   "types_to_exclude": [
    "module",
    "function",
    "builtin_function_or_method",
    "instance",
    "_Feature"
   ],
   "window_display": true
  }
 },
 "nbformat": 4,
 "nbformat_minor": 2
}
